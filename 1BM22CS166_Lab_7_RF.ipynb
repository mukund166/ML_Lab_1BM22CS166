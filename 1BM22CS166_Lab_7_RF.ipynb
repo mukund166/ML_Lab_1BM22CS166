{
  "nbformat": 4,
  "nbformat_minor": 0,
  "metadata": {
    "colab": {
      "provenance": []
    },
    "kernelspec": {
      "name": "python3",
      "display_name": "Python 3"
    },
    "language_info": {
      "name": "python"
    }
  },
  "cells": [
    {
      "cell_type": "code",
      "source": [],
      "metadata": {
        "id": "Jg9-ojSeVvLi"
      },
      "execution_count": null,
      "outputs": []
    },
    {
      "cell_type": "code",
      "execution_count": 2,
      "metadata": {
        "colab": {
          "base_uri": "https://localhost:8080/"
        },
        "id": "zyLjWxuaVAey",
        "outputId": "df256b81-a4e3-4430-83fe-656304f91183"
      },
      "outputs": [
        {
          "output_type": "stream",
          "name": "stdout",
          "text": [
            "Default n_estimators=10 → Mean CV accuracy: 0.9667\n",
            "\n",
            "Random Forest Tuning Results    n_estimators  mean_accuracy\n",
            "0            10       0.966667\n",
            "1            50       0.966667\n",
            "2           100       0.966667\n",
            "3           150       0.966667\n",
            "4           200       0.966667\n",
            "Best number of trees: 10 → Mean CV accuracy: 0.9667\n"
          ]
        }
      ],
      "source": [
        "import pandas as pd\n",
        "from sklearn.model_selection import cross_val_score\n",
        "from sklearn.ensemble import RandomForestClassifier\n",
        "\n",
        "# Load the Iris dataset\n",
        "df = pd.read_csv('/content/iris (2).csv')\n",
        "X = df.iloc[:, :-1]\n",
        "y = df.iloc[:, -1]\n",
        "\n",
        "# 1. Default Random Forest classifier (n_estimators=10)\n",
        "clf_default = RandomForestClassifier(random_state=42)\n",
        "scores_default = cross_val_score(clf_default, X, y, cv=5)\n",
        "print(f\"Default n_estimators=10 → Mean CV accuracy: {scores_default.mean():.4f}\\n\")\n",
        "\n",
        "# 2. Hyperparameter tuning for number of trees\n",
        "n_estimators_list = [10, 50, 100, 150, 200]\n",
        "results = []\n",
        "for n in n_estimators_list:\n",
        "    clf = RandomForestClassifier(n_estimators=n, random_state=42)\n",
        "    scores = cross_val_score(clf, X, y, cv=5)\n",
        "    results.append({\n",
        "        'n_estimators': n,\n",
        "        'mean_accuracy': scores.mean()\n",
        "    })\n",
        "\n",
        "results_df = pd.DataFrame(results)\n",
        "# Display the tuning results as a table\n",
        "print(\"Random Forest Tuning Results\", results_df)\n",
        "\n",
        "# Identify and print the best configuration\n",
        "best = results_df.loc[results_df['mean_accuracy'].idxmax()]\n",
        "print(f\"Best number of trees: {int(best['n_estimators'])} → \"\n",
        "      f\"Mean CV accuracy: {best['mean_accuracy']:.4f}\")\n"
      ]
    }
  ]
}