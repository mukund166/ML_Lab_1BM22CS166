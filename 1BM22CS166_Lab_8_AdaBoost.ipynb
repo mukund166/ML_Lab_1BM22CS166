{
  "nbformat": 4,
  "nbformat_minor": 0,
  "metadata": {
    "colab": {
      "provenance": []
    },
    "kernelspec": {
      "name": "python3",
      "display_name": "Python 3"
    },
    "language_info": {
      "name": "python"
    }
  },
  "cells": [
    {
      "cell_type": "code",
      "execution_count": 1,
      "metadata": {
        "colab": {
          "base_uri": "https://localhost:8080/"
        },
        "id": "sr2Z3bWuYE7r",
        "outputId": "de521751-21cd-4b08-9071-f35f3e9ba088"
      },
      "outputs": [
        {
          "output_type": "stream",
          "name": "stdout",
          "text": [
            "Default AdaBoost (n_estimators=10) ⇒ Mean 5‑fold CV accuracy: 0.8202\n",
            "\n",
            "Tuning results:\n",
            "   n_estimators  mean_accuracy\n",
            "0            10       0.820237\n",
            "1            50       0.830023\n",
            "2           100       0.832050\n",
            "3           150       0.832296\n",
            "4           200       0.832624\n",
            "\n",
            "Best performance: 0.8326 accuracy using 200 trees\n"
          ]
        }
      ],
      "source": [
        "import pandas as pd\n",
        "from sklearn.model_selection import cross_val_score\n",
        "from sklearn.ensemble import AdaBoostClassifier\n",
        "\n",
        "# 1. Load the dataset\n",
        "df = pd.read_csv('/content/income.csv')\n",
        "\n",
        "# 2. Split into features and target\n",
        "#    Here we assume the last column is the target; adjust if your CSV is different.\n",
        "X = df.iloc[:, :-1]\n",
        "y = df.iloc[:, -1]\n",
        "\n",
        "# 3. (Optional) One‑hot encode categorical features\n",
        "#    If X contains non‑numeric columns, uncomment the next line:\n",
        "# X = pd.get_dummies(X, drop_first=True)\n",
        "\n",
        "# 4. Default AdaBoost with 10 estimators\n",
        "clf_default = AdaBoostClassifier(n_estimators=10, random_state=42)\n",
        "scores_default = cross_val_score(clf_default, X, y, cv=5)\n",
        "print(f\"Default AdaBoost (n_estimators=10) ⇒ Mean 5‑fold CV accuracy: {scores_default.mean():.4f}\")\n",
        "\n",
        "# 5. Tune n_estimators\n",
        "n_estimators_list = [10, 50, 100, 150, 200]\n",
        "results = []\n",
        "for n in n_estimators_list:\n",
        "    clf = AdaBoostClassifier(n_estimators=n, random_state=42)\n",
        "    scores = cross_val_score(clf, X, y, cv=5)\n",
        "    results.append({'n_estimators': n, 'mean_accuracy': scores.mean()})\n",
        "\n",
        "# 6. Report tuning results\n",
        "results_df = pd.DataFrame(results)\n",
        "print(\"\\nTuning results:\")\n",
        "print(results_df)\n",
        "\n",
        "best = results_df.loc[results_df['mean_accuracy'].idxmax()]\n",
        "print(f\"\\nBest performance: {best['mean_accuracy']:.4f} accuracy using {int(best['n_estimators'])} trees\")\n"
      ]
    }
  ]
}