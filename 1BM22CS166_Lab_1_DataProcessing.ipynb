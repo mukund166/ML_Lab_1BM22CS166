{
  "nbformat": 4,
  "nbformat_minor": 0,
  "metadata": {
    "colab": {
      "provenance": []
    },
    "kernelspec": {
      "name": "python3",
      "display_name": "Python 3"
    },
    "language_info": {
      "name": "python"
    }
  },
  "cells": [
    {
      "cell_type": "code",
      "execution_count": 9,
      "metadata": {
        "id": "OJ1eS_jdT-B1"
      },
      "outputs": [],
      "source": [
        "import pandas as pd\n",
        "import numpy as np\n",
        "import matplotlib.pyplot as plt\n",
        "from sklearn.model_selection import train_test_split\n",
        "from sklearn.impute import SimpleImputer\n",
        "from sklearn.preprocessing import OrdinalEncoder, OneHotEncoder, LabelEncoder\n",
        "from sklearn.preprocessing import StandardScaler, MinMaxScaler\n",
        "from scipy import stats"
      ]
    },
    {
      "cell_type": "code",
      "source": [
        "dfd = pd.read_csv(\"/content/Dataset of Diabetes .csv\")\n",
        "dfa = pd.read_csv(\"/content/adult.csv\")"
      ],
      "metadata": {
        "id": "gGHBBpofVAUe"
      },
      "execution_count": 2,
      "outputs": []
    },
    {
      "cell_type": "code",
      "source": [
        "def add_missing_values(df, missing_fraction=0.05):\n",
        "    np.random.seed(42)\n",
        "    num_missing = int(missing_fraction * df.size)\n",
        "\n",
        "\n",
        "    missing_rows = np.random.randint(0, df.shape[0], num_missing)\n",
        "    missing_cols = np.random.randint(0, df.shape[1], num_missing)\n",
        "\n",
        "    for row, col in zip(missing_rows, missing_cols):\n",
        "        df.iat[row, col] = np.nan\n",
        "\n",
        "    return df\n",
        "\n",
        "\n",
        "dfd = add_missing_values(dfd)\n",
        "dfa = add_missing_values(dfa)\n",
        "\n",
        "\n",
        "print(\"Missing values in Diabetes dataset before removal:\\n\", dfd.isnull().sum())\n",
        "print(\"\\nMissing values in Adult dataset before removal:\\n\", dfa.isnull().sum())\n",
        "\n",
        "\n",
        "dfd_cleaned = dfd.dropna()\n",
        "dfa_cleaned = dfa.dropna()\n",
        "\n",
        "\n",
        "print(\"\\nMissing values in Diabetes dataset after removal:\\n\", dfd_cleaned.isnull().sum())\n",
        "print(\"\\nMissing values in Adult dataset after removal:\\n\", dfa_cleaned.isnull().sum())"
      ],
      "metadata": {
        "colab": {
          "base_uri": "https://localhost:8080/"
        },
        "id": "LXnpTzKIWZle",
        "outputId": "ee7b8f91-d86f-435b-8bb2-614c486d0744"
      },
      "execution_count": 6,
      "outputs": [
        {
          "output_type": "stream",
          "name": "stdout",
          "text": [
            "Missing values in Diabetes dataset before removal:\n",
            " ID           60\n",
            "No_Pation    44\n",
            "Gender       56\n",
            "AGE          39\n",
            "Urea         58\n",
            "Cr           48\n",
            "HbA1c        42\n",
            "Chol         47\n",
            "TG           49\n",
            "HDL          54\n",
            "LDL          40\n",
            "VLDL         46\n",
            "BMI          51\n",
            "CLASS        48\n",
            "dtype: int64\n",
            "\n",
            "Missing values in Adult dataset before removal:\n",
            " age                2304\n",
            "workclass          2324\n",
            "fnlwgt             2325\n",
            "education          2403\n",
            "educational-num    2392\n",
            "marital-status     2446\n",
            "occupation         2480\n",
            "relationship       2402\n",
            "race               2379\n",
            "gender             2463\n",
            "capital-gain       2369\n",
            "capital-loss       2376\n",
            "hours-per-week     2367\n",
            "native-country     2382\n",
            "income             2324\n",
            "dtype: int64\n",
            "\n",
            "Missing values in Diabetes dataset after removal:\n",
            " ID           0\n",
            "No_Pation    0\n",
            "Gender       0\n",
            "AGE          0\n",
            "Urea         0\n",
            "Cr           0\n",
            "HbA1c        0\n",
            "Chol         0\n",
            "TG           0\n",
            "HDL          0\n",
            "LDL          0\n",
            "VLDL         0\n",
            "BMI          0\n",
            "CLASS        0\n",
            "dtype: int64\n",
            "\n",
            "Missing values in Adult dataset after removal:\n",
            " age                0\n",
            "workclass          0\n",
            "fnlwgt             0\n",
            "education          0\n",
            "educational-num    0\n",
            "marital-status     0\n",
            "occupation         0\n",
            "relationship       0\n",
            "race               0\n",
            "gender             0\n",
            "capital-gain       0\n",
            "capital-loss       0\n",
            "hours-per-week     0\n",
            "native-country     0\n",
            "income             0\n",
            "dtype: int64\n"
          ]
        }
      ]
    },
    {
      "cell_type": "code",
      "source": [
        "\n",
        "categorical_cols_dfd = dfd.select_dtypes(include=['object']).columns\n",
        "categorical_cols_dfa = dfa.select_dtypes(include=['object']).columns\n",
        "\n",
        "print(\"Categorical Columns in Diabetes Dataset:\", categorical_cols_dfd)\n",
        "print(\"Categorical Columns in Adult Dataset:\", categorical_cols_dfa)\n",
        "\n",
        "\n",
        "label_encoder = LabelEncoder()\n",
        "\n",
        "for col in categorical_cols_dfd:\n",
        "    dfd[col] = label_encoder.fit_transform(dfd[col].astype(str))\n",
        "\n",
        "for col in categorical_cols_dfa:\n",
        "    dfa[col] = label_encoder.fit_transform(dfa[col].astype(str))\n",
        "\n",
        "print(\"\\nEncoded Diabetes Dataset:\\n\", dfd.head())\n",
        "print(\"\\nEncoded Adult Dataset:\\n\", dfa.head())"
      ],
      "metadata": {
        "colab": {
          "base_uri": "https://localhost:8080/"
        },
        "id": "qqBtOZm9XeDO",
        "outputId": "096eba57-7cb3-4061-b7f3-fa7dd31e766c"
      },
      "execution_count": 10,
      "outputs": [
        {
          "output_type": "stream",
          "name": "stdout",
          "text": [
            "Categorical Columns in Diabetes Dataset: Index(['Gender', 'CLASS'], dtype='object')\n",
            "Categorical Columns in Adult Dataset: Index(['workclass', 'education', 'marital-status', 'occupation',\n",
            "       'relationship', 'race', 'gender', 'native-country', 'income'],\n",
            "      dtype='object')\n",
            "\n",
            "Encoded Diabetes Dataset:\n",
            "       ID  No_Pation  Gender   AGE  Urea    Cr  HbA1c  Chol   TG  HDL  LDL  \\\n",
            "0  502.0    17975.0       0  50.0   4.7  46.0    4.9   4.2  0.9  2.4  1.4   \n",
            "1  735.0        NaN       1  26.0   4.5  62.0    4.9   3.7  NaN  NaN  2.1   \n",
            "2  420.0    47975.0       0  50.0   4.7  46.0    4.9   4.2  0.9  2.4  1.4   \n",
            "3  680.0    87656.0       0  50.0   4.7  46.0    4.9   4.2  0.9  2.4  1.4   \n",
            "4  504.0    34223.0       1  33.0   NaN  46.0    4.9   4.9  1.0  0.8  2.0   \n",
            "\n",
            "   VLDL   BMI  CLASS  \n",
            "0   0.5  24.0      0  \n",
            "1   0.6  23.0      0  \n",
            "2   0.5  24.0      0  \n",
            "3   0.5  24.0      0  \n",
            "4   NaN  21.0      0  \n",
            "\n",
            "Encoded Adult Dataset:\n",
            "     age  workclass    fnlwgt  education  educational-num  marital-status  \\\n",
            "0  25.0          4  226802.0          1              7.0               4   \n",
            "1  38.0          4   89814.0         11              9.0               2   \n",
            "2  28.0          2  336951.0          7             12.0               2   \n",
            "3  44.0          4  160323.0         15             10.0               2   \n",
            "4  18.0          0  103497.0         15             10.0               4   \n",
            "\n",
            "   occupation  relationship  race  gender  capital-gain  capital-loss  \\\n",
            "0           7             3     2       1           0.0           0.0   \n",
            "1           5             0     4       1           0.0           0.0   \n",
            "2          11             0     4       2           0.0           NaN   \n",
            "3           7             0     2       1        7688.0           0.0   \n",
            "4           0             3     4       0           0.0           0.0   \n",
            "\n",
            "   hours-per-week  native-country  income  \n",
            "0            40.0              39       0  \n",
            "1            50.0              39       0  \n",
            "2            40.0              39       1  \n",
            "3            40.0              39       1  \n",
            "4            30.0              39       0  \n"
          ]
        }
      ]
    },
    {
      "cell_type": "code",
      "source": [
        "import pandas as pd\n",
        "from sklearn.preprocessing import MinMaxScaler, StandardScaler\n",
        "\n",
        "# Sample dataset\n",
        "data = {'Feature': [10, 20, 30, 40, 50, 1000]}  # Contains an outlier\n",
        "df = pd.DataFrame(data)\n",
        "\n",
        "# Min-Max Scaling (0 to 1)\n",
        "min_max_scaler = MinMaxScaler()\n",
        "df['MinMax_Scaled'] = min_max_scaler.fit_transform(df[['Feature']])\n",
        "\n",
        "# Standardization (Z-score)\n",
        "standard_scaler = StandardScaler()\n",
        "df['Standardized'] = standard_scaler.fit_transform(df[['Feature']])\n",
        "\n",
        "print(df)"
      ],
      "metadata": {
        "colab": {
          "base_uri": "https://localhost:8080/"
        },
        "id": "WiRTElKIayR-",
        "outputId": "2e9ac32c-1f0e-4e34-be63-2eb289a24fbe"
      },
      "execution_count": 11,
      "outputs": [
        {
          "output_type": "stream",
          "name": "stdout",
          "text": [
            "   Feature  MinMax_Scaled  Standardized\n",
            "0       10       0.000000     -0.502219\n",
            "1       20       0.010101     -0.474574\n",
            "2       30       0.020202     -0.446929\n",
            "3       40       0.030303     -0.419284\n",
            "4       50       0.040404     -0.391639\n",
            "5     1000       1.000000      2.234643\n"
          ]
        }
      ]
    }
  ]
}