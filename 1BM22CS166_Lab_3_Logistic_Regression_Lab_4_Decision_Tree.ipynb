{
  "nbformat": 4,
  "nbformat_minor": 0,
  "metadata": {
    "colab": {
      "provenance": []
    },
    "kernelspec": {
      "name": "python3",
      "display_name": "Python 3"
    },
    "language_info": {
      "name": "python"
    }
  },
  "cells": [
    {
      "cell_type": "code",
      "execution_count": null,
      "metadata": {
        "id": "td9Ac50Nb09V"
      },
      "outputs": [],
      "source": [
        "import pandas as pd\n",
        "import matplotlib.pyplot as plt\n",
        "import seaborn as sns\n",
        "from sklearn.model_selection import train_test_split\n",
        "from sklearn.preprocessing import StandardScaler\n",
        "from sklearn.linear_model import LogisticRegression\n",
        "from sklearn.metrics import accuracy_score, classification_report"
      ]
    },
    {
      "cell_type": "code",
      "source": [
        "df = pd.read_csv(\"/content/HR_comma_sep.csv\")"
      ],
      "metadata": {
        "id": "7cWy3M_Fdn64"
      },
      "execution_count": null,
      "outputs": []
    },
    {
      "cell_type": "code",
      "source": [
        "print(df.head())\n",
        "print(df.info())\n",
        "print(df.describe())\n",
        "print(df.isnull().sum())"
      ],
      "metadata": {
        "colab": {
          "base_uri": "https://localhost:8080/"
        },
        "id": "QckBAT0UduXY",
        "outputId": "56934208-08c8-475e-c60a-2ef5fe42a659"
      },
      "execution_count": null,
      "outputs": [
        {
          "output_type": "stream",
          "name": "stdout",
          "text": [
            "   satisfaction_level  last_evaluation  number_project  average_montly_hours  \\\n",
            "0                0.38             0.53               2                   157   \n",
            "1                0.80             0.86               5                   262   \n",
            "2                0.11             0.88               7                   272   \n",
            "3                0.72             0.87               5                   223   \n",
            "4                0.37             0.52               2                   159   \n",
            "\n",
            "   time_spend_company  Work_accident  left  promotion_last_5years Department  \\\n",
            "0                   3              0     1                      0      sales   \n",
            "1                   6              0     1                      0      sales   \n",
            "2                   4              0     1                      0      sales   \n",
            "3                   5              0     1                      0      sales   \n",
            "4                   3              0     1                      0      sales   \n",
            "\n",
            "   salary  \n",
            "0     low  \n",
            "1  medium  \n",
            "2  medium  \n",
            "3     low  \n",
            "4     low  \n",
            "<class 'pandas.core.frame.DataFrame'>\n",
            "RangeIndex: 14999 entries, 0 to 14998\n",
            "Data columns (total 10 columns):\n",
            " #   Column                 Non-Null Count  Dtype  \n",
            "---  ------                 --------------  -----  \n",
            " 0   satisfaction_level     14999 non-null  float64\n",
            " 1   last_evaluation        14999 non-null  float64\n",
            " 2   number_project         14999 non-null  int64  \n",
            " 3   average_montly_hours   14999 non-null  int64  \n",
            " 4   time_spend_company     14999 non-null  int64  \n",
            " 5   Work_accident          14999 non-null  int64  \n",
            " 6   left                   14999 non-null  int64  \n",
            " 7   promotion_last_5years  14999 non-null  int64  \n",
            " 8   Department             14999 non-null  object \n",
            " 9   salary                 14999 non-null  object \n",
            "dtypes: float64(2), int64(6), object(2)\n",
            "memory usage: 1.1+ MB\n",
            "None\n",
            "       satisfaction_level  last_evaluation  number_project  \\\n",
            "count        14999.000000     14999.000000    14999.000000   \n",
            "mean             0.612834         0.716102        3.803054   \n",
            "std              0.248631         0.171169        1.232592   \n",
            "min              0.090000         0.360000        2.000000   \n",
            "25%              0.440000         0.560000        3.000000   \n",
            "50%              0.640000         0.720000        4.000000   \n",
            "75%              0.820000         0.870000        5.000000   \n",
            "max              1.000000         1.000000        7.000000   \n",
            "\n",
            "       average_montly_hours  time_spend_company  Work_accident          left  \\\n",
            "count          14999.000000        14999.000000   14999.000000  14999.000000   \n",
            "mean             201.050337            3.498233       0.144610      0.238083   \n",
            "std               49.943099            1.460136       0.351719      0.425924   \n",
            "min               96.000000            2.000000       0.000000      0.000000   \n",
            "25%              156.000000            3.000000       0.000000      0.000000   \n",
            "50%              200.000000            3.000000       0.000000      0.000000   \n",
            "75%              245.000000            4.000000       0.000000      0.000000   \n",
            "max              310.000000           10.000000       1.000000      1.000000   \n",
            "\n",
            "       promotion_last_5years  \n",
            "count           14999.000000  \n",
            "mean                0.021268  \n",
            "std                 0.144281  \n",
            "min                 0.000000  \n",
            "25%                 0.000000  \n",
            "50%                 0.000000  \n",
            "75%                 0.000000  \n",
            "max                 1.000000  \n",
            "satisfaction_level       0\n",
            "last_evaluation          0\n",
            "number_project           0\n",
            "average_montly_hours     0\n",
            "time_spend_company       0\n",
            "Work_accident            0\n",
            "left                     0\n",
            "promotion_last_5years    0\n",
            "Department               0\n",
            "salary                   0\n",
            "dtype: int64\n"
          ]
        }
      ]
    },
    {
      "cell_type": "code",
      "source": [
        "sns.countplot(x='salary', hue='left', data=df)\n",
        "plt.title(\"Impact of Salary on Employee Retention\")\n",
        "plt.show()\n",
        "\n",
        "sns.countplot(x='Department', hue='left', data=df)\n",
        "plt.xticks(rotation=45)\n",
        "plt.title(\"Impact of Department on Employee Retention\")\n",
        "plt.show()"
      ],
      "metadata": {
        "colab": {
          "base_uri": "https://localhost:8080/",
          "height": 988
        },
        "id": "hfZH5zrNd1eh",
        "outputId": "165a4ee4-fe51-4516-8179-da658c439189"
      },
      "execution_count": null,
      "outputs": [
        {
          "output_type": "display_data",
          "data": {
            "text/plain": [
              "<Figure size 640x480 with 1 Axes>"
            ],
            "image/png": "[encoded data removed]"
          },
          "metadata": {}
        },
        {
          "output_type": "display_data",
          "data": {
            "text/plain": [
              "<Figure size 640x480 with 1 Axes>"
            ],
            "image/png": "[encoded data removed]"
          },
          "metadata": {}
        }
      ]
    },
    {
      "cell_type": "code",
      "source": [
        "df = pd.get_dummies(df, columns=['salary', 'Department'], drop_first=True)\n",
        "\n",
        "X = df.drop(columns=['left'])\n",
        "y = df['left']"
      ],
      "metadata": {
        "id": "cIQxp1_5eCN2"
      },
      "execution_count": null,
      "outputs": []
    },
    {
      "cell_type": "code",
      "source": [
        "X_train, X_test, y_train, y_test = train_test_split(X, y, test_size=0.2, random_state=42)\n",
        "\n",
        "scaler = StandardScaler()\n",
        "X_train = scaler.fit_transform(X_train)\n",
        "X_test = scaler.transform(X_test)\n",
        "\n",
        "\n",
        "model = LogisticRegression()\n",
        "model.fit(X_train, y_train)\n",
        "\n",
        "\n",
        "y_pred = model.predict(X_test)\n",
        "\n",
        "accuracy = accuracy_score(y_test, y_pred)\n",
        "print(f\"Model Accuracy: {accuracy:.2f}\")\n",
        "print(\"Classification Report:\")\n",
        "print(classification_report(y_test, y_pred))\n"
      ],
      "metadata": {
        "colab": {
          "base_uri": "https://localhost:8080/"
        },
        "id": "TEYB7fVMeHID",
        "outputId": "2105846e-df7e-4701-b19f-932f8d12a06d"
      },
      "execution_count": null,
      "outputs": [
        {
          "output_type": "stream",
          "name": "stdout",
          "text": [
            "Model Accuracy: 0.78\n",
            "Classification Report:\n",
            "              precision    recall  f1-score   support\n",
            "\n",
            "           0       0.82      0.92      0.87      2294\n",
            "           1       0.57      0.34      0.42       706\n",
            "\n",
            "    accuracy                           0.78      3000\n",
            "   macro avg       0.69      0.63      0.65      3000\n",
            "weighted avg       0.76      0.78      0.76      3000\n",
            "\n"
          ]
        }
      ]
    },
    {
      "cell_type": "markdown",
      "source": [
        "Decisison Tree"
      ],
      "metadata": {
        "id": "r8CdTUlYfSmo"
      }
    },
    {
      "cell_type": "code",
      "source": [
        "import pandas as pd\n",
        "import numpy as np\n",
        "import seaborn as sns\n",
        "import matplotlib.pyplot as plt\n",
        "from sklearn.model_selection import train_test_split\n",
        "from sklearn.preprocessing import LabelEncoder\n",
        "from sklearn.tree import DecisionTreeClassifier\n",
        "from sklearn.metrics import accuracy_score, confusion_matrix, classification_report"
      ],
      "metadata": {
        "id": "x91_Cem4igfT"
      },
      "execution_count": 10,
      "outputs": []
    },
    {
      "cell_type": "code",
      "source": [
        "iris_df = pd.read_csv(\"/content/iris (1).csv\")\n",
        "\n",
        "X_iris = iris_df.drop(columns=['species'])\n",
        "y_iris = iris_df['species']\n",
        "\n",
        "X_train_iris, X_test_iris, y_train_iris, y_test_iris = train_test_split(X_iris, y_iris, test_size=0.2, random_state=42)\n",
        "\n",
        "iris_model = DecisionTreeClassifier()\n",
        "iris_model.fit(X_train_iris, y_train_iris)\n",
        "\n",
        "y_pred_iris = iris_model.predict(X_test_iris)\n",
        "\n",
        "# Accuracy and confusion matrix\n",
        "print(\"Iris Dataset Results:\")\n",
        "print(f\"Accuracy: {accuracy_score(y_test_iris, y_pred_iris):.2f}\")\n",
        "print(\"Confusion Matrix:\")\n",
        "print(confusion_matrix(y_test_iris, y_pred_iris))\n",
        "print(\"Classification Report:\")\n",
        "print(classification_report(y_test_iris, y_pred_iris))"
      ],
      "metadata": {
        "id": "bJaRGhpAimtz",
        "colab": {
          "base_uri": "https://localhost:8080/"
        },
        "outputId": "57762a32-951f-40bf-e99f-c979c9dc1e62"
      },
      "execution_count": 12,
      "outputs": [
        {
          "output_type": "stream",
          "name": "stdout",
          "text": [
            "Iris Dataset Results:\n",
            "Accuracy: 1.00\n",
            "Confusion Matrix:\n",
            "[[10  0  0]\n",
            " [ 0  9  0]\n",
            " [ 0  0 11]]\n",
            "Classification Report:\n",
            "                 precision    recall  f1-score   support\n",
            "\n",
            "    Iris-setosa       1.00      1.00      1.00        10\n",
            "Iris-versicolor       1.00      1.00      1.00         9\n",
            " Iris-virginica       1.00      1.00      1.00        11\n",
            "\n",
            "       accuracy                           1.00        30\n",
            "      macro avg       1.00      1.00      1.00        30\n",
            "   weighted avg       1.00      1.00      1.00        30\n",
            "\n"
          ]
        }
      ]
    },
    {
      "cell_type": "code",
      "source": [
        "drug_df = pd.read_csv(\"/content/drug.csv\")\n",
        "\n",
        "label_encoders = {}\n",
        "for col in ['Sex', 'BP', 'Cholesterol', 'Drug']:\n",
        "    le = LabelEncoder()\n",
        "    drug_df[col] = le.fit_transform(drug_df[col])\n",
        "    label_encoders[col] = le\n",
        "\n",
        "X_drug = drug_df.drop(columns=['Drug'])\n",
        "y_drug = drug_df['Drug']\n",
        "\n",
        "X_train_drug, X_test_drug, y_train_drug, y_test_drug = train_test_split(X_drug, y_drug, test_size=0.2, random_state=42)\n",
        "\n",
        "drug_model = DecisionTreeClassifier()\n",
        "drug_model.fit(X_train_drug, y_train_drug)\n",
        "\n",
        "y_pred_drug = drug_model.predict(X_test_drug)\n",
        "\n",
        "print(\"\\nDrug Dataset Results:\")\n",
        "print(f\"Accuracy: {accuracy_score(y_test_drug, y_pred_drug):.2f}\")\n",
        "print(\"Confusion Matrix:\")\n",
        "print(confusion_matrix(y_test_drug, y_pred_drug))\n",
        "print(\"Classification Report:\")\n",
        "print(classification_report(y_test_drug, y_pred_drug))"
      ],
      "metadata": {
        "colab": {
          "base_uri": "https://localhost:8080/"
        },
        "id": "yubhYy2bj0yf",
        "outputId": "ff4f1068-a7c6-4757-8e5b-b311b9ea5558"
      },
      "execution_count": 14,
      "outputs": [
        {
          "output_type": "stream",
          "name": "stdout",
          "text": [
            "\n",
            "Drug Dataset Results:\n",
            "Accuracy: 1.00\n",
            "Confusion Matrix:\n",
            "[[ 6  0  0  0  0]\n",
            " [ 0  3  0  0  0]\n",
            " [ 0  0  5  0  0]\n",
            " [ 0  0  0 11  0]\n",
            " [ 0  0  0  0 15]]\n",
            "Classification Report:\n",
            "              precision    recall  f1-score   support\n",
            "\n",
            "           0       1.00      1.00      1.00         6\n",
            "           1       1.00      1.00      1.00         3\n",
            "           2       1.00      1.00      1.00         5\n",
            "           3       1.00      1.00      1.00        11\n",
            "           4       1.00      1.00      1.00        15\n",
            "\n",
            "    accuracy                           1.00        40\n",
            "   macro avg       1.00      1.00      1.00        40\n",
            "weighted avg       1.00      1.00      1.00        40\n",
            "\n"
          ]
        }
      ]
    },
    {
      "cell_type": "code",
      "source": [
        "from sklearn.tree import DecisionTreeRegressor\n",
        "from sklearn.metrics import mean_absolute_error, mean_squared_error\n",
        "\n",
        "\n",
        "petrol_df = pd.read_csv(\"/content/petrol_consumption.csv\")\n",
        "\n",
        "X = petrol_df.drop(columns=['Petrol_Consumption'])\n",
        "y = petrol_df['Petrol_Consumption']\n",
        "\n",
        "X_train, X_test, y_train, y_test = train_test_split(X, y, test_size=0.2, random_state=42)\n",
        "\n",
        "regressor = DecisionTreeRegressor()\n",
        "regressor.fit(X_train, y_train)\n",
        "\n",
        "y_pred = regressor.predict(X_test)\n",
        "\n",
        "mae = mean_absolute_error(y_test, y_pred)\n",
        "mse = mean_squared_error(y_test, y_pred)\n",
        "rmse = np.sqrt(mse)\n",
        "\n",
        "print(\"Regression Tree Results:\")\n",
        "print(f\"Mean Absolute Error: {mae:.2f}\")\n",
        "print(f\"Mean Squared Error: {mse:.2f}\")\n",
        "print(f\"Root Mean Squared Error: {rmse:.2f}\")"
      ],
      "metadata": {
        "colab": {
          "base_uri": "https://localhost:8080/"
        },
        "id": "sFs8zPmElJN9",
        "outputId": "31a607cc-e21b-4965-8f4c-5f68688dbeed"
      },
      "execution_count": 16,
      "outputs": [
        {
          "output_type": "stream",
          "name": "stdout",
          "text": [
            "Regression Tree Results:\n",
            "Mean Absolute Error: 90.60\n",
            "Mean Squared Error: 16851.60\n",
            "Root Mean Squared Error: 129.81\n"
          ]
        }
      ]
    }
  ]
}