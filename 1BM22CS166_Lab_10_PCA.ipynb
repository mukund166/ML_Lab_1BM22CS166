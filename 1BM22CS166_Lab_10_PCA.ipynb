{
  "nbformat": 4,
  "nbformat_minor": 0,
  "metadata": {
    "colab": {
      "provenance": [],
      "authorship_tag": "ABX9TyOFzo/CIfanmilWFm/vCv1Q",
      "include_colab_link": true
    },
    "kernelspec": {
      "name": "python3",
      "display_name": "Python 3"
    },
    "language_info": {
      "name": "python"
    }
  },
  "cells": [
    {
      "cell_type": "markdown",
      "metadata": {
        "id": "view-in-github",
        "colab_type": "text"
      },
      "source": [
        "<a href=\"https://colab.research.google.com/github/mukund166/ML_Lab_1BM22CS166/blob/main/1BM22CS166_Lab_10_PCA.ipynb\" target=\"_parent\"><img src=\"https://colab.research.google.com/assets/colab-badge.svg\" alt=\"Open In Colab\"/></a>"
      ]
    },
    {
      "cell_type": "code",
      "execution_count": null,
      "metadata": {
        "colab": {
          "base_uri": "https://localhost:8080/"
        },
        "id": "vW3hJSYWzGlM",
        "outputId": "dea63a48-967a-4199-ba37-e49d68f298b6"
      },
      "outputs": [
        {
          "output_type": "stream",
          "name": "stdout",
          "text": [
            "=== Accuracies BEFORE PCA ===\n",
            "SVM              : 0.8750\n",
            "LogisticRegression: 0.8533\n",
            "RandomForest     : 0.8641\n",
            "\n",
            "PCA retained 13 components, explained variance = 0.9719\n",
            "\n",
            "=== Accuracies AFTER PCA ===\n",
            "SVM              : 0.8750\n",
            "LogisticRegression: 0.8533\n",
            "RandomForest     : 0.8641\n"
          ]
        }
      ],
      "source": [
        "import pandas as pd\n",
        "from sklearn.preprocessing import LabelEncoder, OneHotEncoder, StandardScaler\n",
        "from sklearn.compose import ColumnTransformer\n",
        "from sklearn.pipeline import Pipeline\n",
        "from sklearn.model_selection import train_test_split\n",
        "from sklearn.svm import SVC\n",
        "from sklearn.linear_model import LogisticRegression\n",
        "from sklearn.ensemble import RandomForestClassifier\n",
        "from sklearn.decomposition import PCA\n",
        "from sklearn.metrics import accuracy_score\n",
        "\n",
        "# 1. Load data\n",
        "df = pd.read_csv(\"heart.csv\")\n",
        "\n",
        "# 2. Label‑encode binary text columns\n",
        "le = LabelEncoder()\n",
        "for col in [\"Sex\", \"ExerciseAngina\"]:\n",
        "    df[col] = le.fit_transform(df[col])\n",
        "\n",
        "# 3. Separate features and target\n",
        "X = df.drop(\"HeartDisease\", axis=1)\n",
        "y = df[\"HeartDisease\"]\n",
        "\n",
        "# 4. Build preprocessing pipeline:\n",
        "#    - One‑hot for multi‑category columns (using sparse_output=False)\n",
        "#    - passthrough the rest\n",
        "#    - then scale everything\n",
        "cat_cols = [\"ChestPainType\", \"RestingECG\", \"ST_Slope\"]\n",
        "preprocessor = Pipeline([\n",
        "    (\"onehot\", ColumnTransformer([\n",
        "        (\"ohe\", OneHotEncoder(sparse_output=False, drop=\"first\"), cat_cols)\n",
        "    ], remainder=\"passthrough\")),\n",
        "    (\"scaler\", StandardScaler())\n",
        "])\n",
        "\n",
        "# 5. Apply preprocessing\n",
        "X_proc = preprocessor.fit_transform(X)\n",
        "\n",
        "# 6. Train/test split\n",
        "X_train, X_test, y_train, y_test = train_test_split(\n",
        "    X_proc, y, test_size=0.2, random_state=42\n",
        ")\n",
        "\n",
        "# 7. Define models\n",
        "models = {\n",
        "    \"SVM\": SVC(random_state=42),\n",
        "    \"LogisticRegression\": LogisticRegression(max_iter=1000, random_state=42),\n",
        "    \"RandomForest\": RandomForestClassifier(random_state=42)\n",
        "}\n",
        "\n",
        "# 8. Train & evaluate before PCA\n",
        "print(\"=== Accuracies BEFORE PCA ===\")\n",
        "scores_before = {}\n",
        "for name, clf in models.items():\n",
        "    clf.fit(X_train, y_train)\n",
        "    preds = clf.predict(X_test)\n",
        "    acc = accuracy_score(y_test, preds)\n",
        "    scores_before[name] = acc\n",
        "    print(f\"{name:17s}: {acc:.4f}\")\n",
        "\n",
        "# 9. Apply PCA (retain 95% variance)\n",
        "pca = PCA(n_components=0.95, random_state=42)\n",
        "X_train_pca = pca.fit_transform(X_train)\n",
        "X_test_pca  = pca.transform(X_test)\n",
        "\n",
        "print(f\"\\nPCA retained {pca.n_components_} components, \"\n",
        "      f\"explained variance = {pca.explained_variance_ratio_.sum():.4f}\\n\")\n",
        "\n",
        "# 10. Train & evaluate after PCA\n",
        "print(\"=== Accuracies AFTER PCA ===\")\n",
        "scores_after = {}\n",
        "for name, clf in models.items():\n",
        "    clf.fit(X_train_pca, y_train)\n",
        "    preds = clf.predict(X_test_pca)\n",
        "    acc = accuracy_score(y_test, preds)\n",
        "    scores_after[name] = acc\n",
        "    print(f\"{name:17s}: {acc:.4f}\")\n"
      ]
    }
  ]
}